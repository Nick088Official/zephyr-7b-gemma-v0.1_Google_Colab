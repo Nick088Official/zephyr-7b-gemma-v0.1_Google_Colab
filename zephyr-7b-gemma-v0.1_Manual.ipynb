{
  "nbformat": 4,
  "nbformat_minor": 0,
  "metadata": {
    "colab": {
      "provenance": [],
      "include_colab_link": true
    },
    "kernelspec": {
      "name": "python3",
      "display_name": "Python 3"
    },
    "language_info": {
      "name": "python"
    }
  },
  "cells": [
    {
      "cell_type": "markdown",
      "metadata": {
        "id": "view-in-github",
        "colab_type": "text"
      },
      "source": [
        "<a href=\"https://colab.research.google.com/github/Nick088Official/zephyr-7b-gemma-v0.1_Google_Colab/blob/main/Gemma_Manual.ipynb\" target=\"_parent\"><img src=\"https://colab.research.google.com/assets/colab-badge.svg\" alt=\"Open In Colab\"/></a>"
      ]
    },
    {
      "cell_type": "markdown",
      "source": [
        "# Run zephyr-7b-gemma-v0.1 AI Model (Finetuned Version of Google Gemma 7B)\n",
        "Made by [Nick088](https://linktr.ee/Nick088)"
      ],
      "metadata": {
        "id": "rhAucpX5Li7V"
      }
    },
    {
      "cell_type": "code",
      "source": [
        "#@title Install & Load Dependencies, Model\n",
        "!pip install einops\n",
        "!pip install accelerate\n",
        "import torch\n",
        "from huggingface_hub import login\n",
        "from IPython.display import clear_output\n",
        "from transformers import AutoModelForCausalLM, AutoTokenizer\n",
        "\n",
        "if torch.cuda.is_available():\n",
        "    device = \"cuda\"\n",
        "    print(\"Using GPU\")\n",
        "else:\n",
        "    device = \"cpu\"\n",
        "    print(\"Using CPU\")\n",
        "\n",
        "\n",
        "if device == \"cuda\":\n",
        "  model = AutoModelForCausalLM.from_pretrained(f\"google/{Google_Gemma_Model}\", torch_dtype=\"auto\", trust_remote_code=True)\n",
        "  tokenizer = AutoTokenizer.from_pretrained(f\"google/{Google_Gemma_Model}\", trust_remote_code=True)\n",
        "else:\n",
        "  model = AutoModelForCausalLM.from_pretrained(f\"google/{Google_Gemma_Model}\", torch_dtype=torch.float32, device_map=\"cpu\", trust_remote_code=True)\n",
        "  tokenizer = AutoTokenizer.from_pretrained(f\"google/{Google_Gemma_Model}\", trust_remote_code=True)\n",
        "\n",
        "clear_output()\n",
        "print(f\"Downloaded \")"
      ],
      "metadata": {
        "id": "GyK68jfLe5gy",
        "cellView": "form"
      },
      "execution_count": null,
      "outputs": []
    },
    {
      "cell_type": "code",
      "source": [
        "#@title Run Inference\n",
        "#@markdown Your Prompt\n",
        "user_prompt = \"What does finetuning mean?\" #@param {type:\"string\"}\n",
        "\n",
        "# Additional inputs\n",
        "#@markdown Add your system prompt (prompt to personalize the AI) here or leave it empty if you wanna use the AI normally\n",
        "system_prompt = \"You are ShortAI, write short but concise responses\"  #@param {type:\"string\"}\n",
        "#@markdown The maximum number of tokens that the model will generate in response to your input\n",
        "max_new_tokens = 1856 #@param {type:\"slider\", min:256, max:2048, step:1}\n",
        "#@markdown Penalize repeated tokens, so make the AI repeat less of itself\n",
        "repetition_penalty = 1.2 #@param {type:\"slider\", min:0.0, max:2, step:0.1}\n",
        "\n",
        "# Concatenate system and user prompts\n",
        "full_prompt = system_prompt + user_prompt\n",
        "\n",
        "\n",
        "# Tokenize the combined prompt\n",
        "inputs = tokenizer(full_prompt, return_tensors=\"pt\", return_attention_mask=False)\n",
        "\n",
        "  # Generate text based on the combined prompt and additional inputs\n",
        "outputs = model.generate(\n",
        "    **inputs,\n",
        "    max_new_tokens=max_new_tokens,\n",
        "    repetition_penalty=repetition_penalty\n",
        "    )\n",
        "\n",
        "text = tokenizer.batch_decode(outputs)[0]\n",
        "\n",
        "# Extract the generated text from the model output\n",
        "text = text[len(system_prompt):].strip()  # Remove the system prompt from the generated text\n",
        "clear_output()\n",
        "print(text)"
      ],
      "metadata": {
        "id": "4901EHafGkhK",
        "cellView": "form"
      },
      "execution_count": null,
      "outputs": []
    }
  ]
}
